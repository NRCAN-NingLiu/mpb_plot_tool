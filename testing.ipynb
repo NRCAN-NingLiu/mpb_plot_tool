{
 "cells": [
  {
   "cell_type": "code",
   "execution_count": 1,
   "metadata": {},
   "outputs": [],
   "source": [
    "import matplotlib.pyplot as plt\n",
    "import altair as alt\n",
    "import streamlit as st\n",
    "# import seaborn as sns\n",
    "import geopandas as gpd\n",
    "import pandas as pd\n",
    "from shapely.geometry import Point\n",
    "# import os"
   ]
  },
  {
   "cell_type": "code",
   "execution_count": 12,
   "metadata": {},
   "outputs": [
    {
     "data": {
      "text/html": [
       "<div>\n",
       "<style scoped>\n",
       "    .dataframe tbody tr th:only-of-type {\n",
       "        vertical-align: middle;\n",
       "    }\n",
       "\n",
       "    .dataframe tbody tr th {\n",
       "        vertical-align: top;\n",
       "    }\n",
       "\n",
       "    .dataframe thead th {\n",
       "        text-align: right;\n",
       "    }\n",
       "</style>\n",
       "<table border=\"1\" class=\"dataframe\">\n",
       "  <thead>\n",
       "    <tr style=\"text-align: right;\">\n",
       "      <th></th>\n",
       "      <th>gridID</th>\n",
       "      <th>geometry</th>\n",
       "      <th>value</th>\n",
       "    </tr>\n",
       "  </thead>\n",
       "  <tbody>\n",
       "    <tr>\n",
       "      <th>0</th>\n",
       "      <td>920</td>\n",
       "      <td>POLYGON ((-1255500.000 7342510.926, -1255500.0...</td>\n",
       "      <td>0.0714</td>\n",
       "    </tr>\n",
       "    <tr>\n",
       "      <th>1</th>\n",
       "      <td>923</td>\n",
       "      <td>POLYGON ((-1240500.000 7342510.926, -1240500.0...</td>\n",
       "      <td>0.1000</td>\n",
       "    </tr>\n",
       "    <tr>\n",
       "      <th>2</th>\n",
       "      <td>937</td>\n",
       "      <td>POLYGON ((-1170500.000 7342510.926, -1170500.0...</td>\n",
       "      <td>0.1000</td>\n",
       "    </tr>\n",
       "  </tbody>\n",
       "</table>\n",
       "</div>"
      ],
      "text/plain": [
       "   gridID                                           geometry   value\n",
       "0     920  POLYGON ((-1255500.000 7342510.926, -1255500.0...  0.0714\n",
       "1     923  POLYGON ((-1240500.000 7342510.926, -1240500.0...  0.1000\n",
       "2     937  POLYGON ((-1170500.000 7342510.926, -1170500.0...  0.1000"
      ]
     },
     "execution_count": 12,
     "metadata": {},
     "output_type": "execute_result"
    }
   ],
   "source": [
    "file = 'input/treat_freq.txt'\n",
    "geom = gpd.read_file('input/gridsGEO_m.shp', driver='ESRI Shapefile')\n",
    "data = pd.read_csv(file, sep = '\\t', header = None, names = ['gridID', 'value'])\n",
    "data = geom.merge(data, on = 'gridID', how = 'right')\n",
    "data.head(3)"
   ]
  },
  {
   "cell_type": "code",
   "execution_count": 9,
   "metadata": {},
   "outputs": [
    {
     "data": {
      "text/html": [
       "<div>\n",
       "<style scoped>\n",
       "    .dataframe tbody tr th:only-of-type {\n",
       "        vertical-align: middle;\n",
       "    }\n",
       "\n",
       "    .dataframe tbody tr th {\n",
       "        vertical-align: top;\n",
       "    }\n",
       "\n",
       "    .dataframe thead th {\n",
       "        text-align: right;\n",
       "    }\n",
       "</style>\n",
       "<table border=\"1\" class=\"dataframe\">\n",
       "  <thead>\n",
       "    <tr style=\"text-align: right;\">\n",
       "      <th></th>\n",
       "      <th>gridID</th>\n",
       "      <th>geometry</th>\n",
       "      <th>value1</th>\n",
       "      <th>value2</th>\n",
       "    </tr>\n",
       "  </thead>\n",
       "  <tbody>\n",
       "    <tr>\n",
       "      <th>0</th>\n",
       "      <td>920</td>\n",
       "      <td>POLYGON ((-1255500.000 7342510.926, -1255500.0...</td>\n",
       "      <td>9</td>\n",
       "      <td>1</td>\n",
       "    </tr>\n",
       "    <tr>\n",
       "      <th>1</th>\n",
       "      <td>923</td>\n",
       "      <td>POLYGON ((-1240500.000 7342510.926, -1240500.0...</td>\n",
       "      <td>14</td>\n",
       "      <td>1</td>\n",
       "    </tr>\n",
       "    <tr>\n",
       "      <th>2</th>\n",
       "      <td>937</td>\n",
       "      <td>POLYGON ((-1170500.000 7342510.926, -1170500.0...</td>\n",
       "      <td>13</td>\n",
       "      <td>1</td>\n",
       "    </tr>\n",
       "    <tr>\n",
       "      <th>3</th>\n",
       "      <td>1028</td>\n",
       "      <td>POLYGON ((-1215500.000 7347510.926, -1215500.0...</td>\n",
       "      <td>14</td>\n",
       "      <td>1</td>\n",
       "    </tr>\n",
       "    <tr>\n",
       "      <th>4</th>\n",
       "      <td>1037</td>\n",
       "      <td>POLYGON ((-1170500.000 7347510.926, -1170500.0...</td>\n",
       "      <td>14</td>\n",
       "      <td>1</td>\n",
       "    </tr>\n",
       "    <tr>\n",
       "      <th>...</th>\n",
       "      <td>...</td>\n",
       "      <td>...</td>\n",
       "      <td>...</td>\n",
       "      <td>...</td>\n",
       "    </tr>\n",
       "    <tr>\n",
       "      <th>3352</th>\n",
       "      <td>8033</td>\n",
       "      <td>POLYGON ((-1100500.000 7687510.926, -1100500.0...</td>\n",
       "      <td>10</td>\n",
       "      <td>1</td>\n",
       "    </tr>\n",
       "    <tr>\n",
       "      <th>3353</th>\n",
       "      <td>8033</td>\n",
       "      <td>POLYGON ((-1100500.000 7687510.926, -1100500.0...</td>\n",
       "      <td>13</td>\n",
       "      <td>1</td>\n",
       "    </tr>\n",
       "    <tr>\n",
       "      <th>3354</th>\n",
       "      <td>8312</td>\n",
       "      <td>POLYGON ((-1185500.000 7702510.926, -1185500.0...</td>\n",
       "      <td>9</td>\n",
       "      <td>1</td>\n",
       "    </tr>\n",
       "    <tr>\n",
       "      <th>3355</th>\n",
       "      <td>8414</td>\n",
       "      <td>POLYGON ((-1165500.000 7707510.926, -1165500.0...</td>\n",
       "      <td>9</td>\n",
       "      <td>1</td>\n",
       "    </tr>\n",
       "    <tr>\n",
       "      <th>3356</th>\n",
       "      <td>8607</td>\n",
       "      <td>POLYGON ((-1180500.000 7717510.926, -1180500.0...</td>\n",
       "      <td>9</td>\n",
       "      <td>1</td>\n",
       "    </tr>\n",
       "  </tbody>\n",
       "</table>\n",
       "<p>3357 rows × 4 columns</p>\n",
       "</div>"
      ],
      "text/plain": [
       "      gridID                                           geometry  value1  \\\n",
       "0        920  POLYGON ((-1255500.000 7342510.926, -1255500.0...       9   \n",
       "1        923  POLYGON ((-1240500.000 7342510.926, -1240500.0...      14   \n",
       "2        937  POLYGON ((-1170500.000 7342510.926, -1170500.0...      13   \n",
       "3       1028  POLYGON ((-1215500.000 7347510.926, -1215500.0...      14   \n",
       "4       1037  POLYGON ((-1170500.000 7347510.926, -1170500.0...      14   \n",
       "...      ...                                                ...     ...   \n",
       "3352    8033  POLYGON ((-1100500.000 7687510.926, -1100500.0...      10   \n",
       "3353    8033  POLYGON ((-1100500.000 7687510.926, -1100500.0...      13   \n",
       "3354    8312  POLYGON ((-1185500.000 7702510.926, -1185500.0...       9   \n",
       "3355    8414  POLYGON ((-1165500.000 7707510.926, -1165500.0...       9   \n",
       "3356    8607  POLYGON ((-1180500.000 7717510.926, -1180500.0...       9   \n",
       "\n",
       "      value2  \n",
       "0          1  \n",
       "1          1  \n",
       "2          1  \n",
       "3          1  \n",
       "4          1  \n",
       "...      ...  \n",
       "3352       1  \n",
       "3353       1  \n",
       "3354       1  \n",
       "3355       1  \n",
       "3356       1  \n",
       "\n",
       "[3357 rows x 4 columns]"
      ]
     },
     "execution_count": 9,
     "metadata": {},
     "output_type": "execute_result"
    }
   ],
   "source": [
    "for col in data.columns:\n",
    "    if data[col].isnull().values.all():\n",
    "        data.drop(labels=col, axis=1, inplace=True)"
   ]
  },
  {
   "cell_type": "code",
   "execution_count": null,
   "metadata": {},
   "outputs": [],
   "source": [
    "#Load your x-y data - path \n",
    "xcoord = pd.read_csv('input/x_coord.txt', sep = '\\t', header = None, names = ['gridID', 'x'])\n",
    "ycoord = pd.read_csv('input/y_coord.txt', sep = '\\t', header = None, names = ['gridID', 'y'])\n",
    "xcoord = xcoord.merge(ycoord, on = 'gridID', how = 'left')\n",
    "SRID = 4269\n",
    "geom = [Point(xy) for xy in zip(xcoord['x'], xcoord['y'])]\n",
    "geom = gpd.GeoDataFrame(xcoord, crs = SRID, geometry = geom )"
   ]
  },
  {
   "cell_type": "code",
   "execution_count": null,
   "metadata": {},
   "outputs": [],
   "source": [
    "# joining geometry with NodeID - value format input \n",
    "def join_geom(file, geom = geom, **kwargs):\n",
    "    data = pd.read_csv(file, sep = '\\t', header = None, names = ['gridID', 'period', 'value'])\n",
    "    data = geom.merge(data, on = 'gridID', how = 'right')\n",
    "    # data['period'] = 'P' + data['period'].astype(str)\n",
    "    return data#, len(set(data['period']))"
   ]
  },
  {
   "cell_type": "code",
   "execution_count": 36,
   "metadata": {},
   "outputs": [
    {
     "data": {
      "text/html": [
       "<div>\n",
       "<style scoped>\n",
       "    .dataframe tbody tr th:only-of-type {\n",
       "        vertical-align: middle;\n",
       "    }\n",
       "\n",
       "    .dataframe tbody tr th {\n",
       "        vertical-align: top;\n",
       "    }\n",
       "\n",
       "    .dataframe thead th {\n",
       "        text-align: right;\n",
       "    }\n",
       "</style>\n",
       "<table border=\"1\" class=\"dataframe\">\n",
       "  <thead>\n",
       "    <tr style=\"text-align: right;\">\n",
       "      <th></th>\n",
       "      <th>gridID</th>\n",
       "      <th>geometry</th>\n",
       "      <th>value</th>\n",
       "    </tr>\n",
       "  </thead>\n",
       "  <tbody>\n",
       "    <tr>\n",
       "      <th>0</th>\n",
       "      <td>920</td>\n",
       "      <td>POLYGON ((-1255500.000 7342510.926, -1255500.0...</td>\n",
       "      <td>0.0714</td>\n",
       "    </tr>\n",
       "    <tr>\n",
       "      <th>1</th>\n",
       "      <td>923</td>\n",
       "      <td>POLYGON ((-1240500.000 7342510.926, -1240500.0...</td>\n",
       "      <td>0.1000</td>\n",
       "    </tr>\n",
       "    <tr>\n",
       "      <th>2</th>\n",
       "      <td>937</td>\n",
       "      <td>POLYGON ((-1170500.000 7342510.926, -1170500.0...</td>\n",
       "      <td>0.1000</td>\n",
       "    </tr>\n",
       "    <tr>\n",
       "      <th>3</th>\n",
       "      <td>1028</td>\n",
       "      <td>POLYGON ((-1215500.000 7347510.926, -1215500.0...</td>\n",
       "      <td>0.1111</td>\n",
       "    </tr>\n",
       "    <tr>\n",
       "      <th>4</th>\n",
       "      <td>1037</td>\n",
       "      <td>POLYGON ((-1170500.000 7347510.926, -1170500.0...</td>\n",
       "      <td>0.1111</td>\n",
       "    </tr>\n",
       "  </tbody>\n",
       "</table>\n",
       "</div>"
      ],
      "text/plain": [
       "   gridID                                           geometry   value\n",
       "0     920  POLYGON ((-1255500.000 7342510.926, -1255500.0...  0.0714\n",
       "1     923  POLYGON ((-1240500.000 7342510.926, -1240500.0...  0.1000\n",
       "2     937  POLYGON ((-1170500.000 7342510.926, -1170500.0...  0.1000\n",
       "3    1028  POLYGON ((-1215500.000 7347510.926, -1215500.0...  0.1111\n",
       "4    1037  POLYGON ((-1170500.000 7347510.926, -1170500.0...  0.1111"
      ]
     },
     "execution_count": 36,
     "metadata": {},
     "output_type": "execute_result"
    }
   ],
   "source": [
    "grids = gpd.read_file('input/gridsGEO_m.shp', driver='ESRI Shapefile')\n",
    "def join_geom(file, geom = grids, **kwargs):\n",
    "    data = pd.read_csv(file, sep = '\\t', header = None, names = ['gridID', 'value'])\n",
    "    data = geom.merge(data, on = 'gridID', how = 'right')\n",
    "    return data\n",
    "data = join_geom('input/treat_freq.txt')\n",
    "data.head()"
   ]
  },
  {
   "cell_type": "code",
   "execution_count": null,
   "metadata": {},
   "outputs": [],
   "source": [
    "data.explore(column='value', scheme='Quantiles', cmap='Blues')"
   ]
  },
  {
   "cell_type": "code",
   "execution_count": 4,
   "metadata": {},
   "outputs": [],
   "source": [
    "\n",
    "def first_time(data):\n",
    "    data = data.sort_values('period')\n",
    "    data.drop_duplicates(subset='gridID', keep='first', inplace=True)\n",
    "    return data"
   ]
  },
  {
   "cell_type": "code",
   "execution_count": 9,
   "metadata": {},
   "outputs": [
    {
     "data": {
      "text/html": [
       "<div>\n",
       "<style scoped>\n",
       "    .dataframe tbody tr th:only-of-type {\n",
       "        vertical-align: middle;\n",
       "    }\n",
       "\n",
       "    .dataframe tbody tr th {\n",
       "        vertical-align: top;\n",
       "    }\n",
       "\n",
       "    .dataframe thead th {\n",
       "        text-align: right;\n",
       "    }\n",
       "</style>\n",
       "<table border=\"1\" class=\"dataframe\">\n",
       "  <thead>\n",
       "    <tr style=\"text-align: right;\">\n",
       "      <th></th>\n",
       "      <th>gridID</th>\n",
       "      <th>period</th>\n",
       "      <th>value</th>\n",
       "    </tr>\n",
       "  </thead>\n",
       "  <tbody>\n",
       "    <tr>\n",
       "      <th>0</th>\n",
       "      <td>25</td>\n",
       "      <td>1.12</td>\n",
       "      <td>NaN</td>\n",
       "    </tr>\n",
       "    <tr>\n",
       "      <th>1</th>\n",
       "      <td>26</td>\n",
       "      <td>1.12</td>\n",
       "      <td>NaN</td>\n",
       "    </tr>\n",
       "    <tr>\n",
       "      <th>2</th>\n",
       "      <td>27</td>\n",
       "      <td>1.12</td>\n",
       "      <td>NaN</td>\n",
       "    </tr>\n",
       "    <tr>\n",
       "      <th>3</th>\n",
       "      <td>28</td>\n",
       "      <td>1.12</td>\n",
       "      <td>NaN</td>\n",
       "    </tr>\n",
       "    <tr>\n",
       "      <th>4</th>\n",
       "      <td>29</td>\n",
       "      <td>1.12</td>\n",
       "      <td>NaN</td>\n",
       "    </tr>\n",
       "  </tbody>\n",
       "</table>\n",
       "</div>"
      ],
      "text/plain": [
       "   gridID  period  value\n",
       "0      25    1.12    NaN\n",
       "1      26    1.12    NaN\n",
       "2      27    1.12    NaN\n",
       "3      28    1.12    NaN\n",
       "4      29    1.12    NaN"
      ]
     },
     "execution_count": 9,
     "metadata": {},
     "output_type": "execute_result"
    }
   ],
   "source": [
    "data = pd.read_csv('input/G.txt', sep = '\\t', header = None, names = ['gridID', 'period', 'value'])\n",
    "data.head()"
   ]
  },
  {
   "cell_type": "code",
   "execution_count": 20,
   "metadata": {},
   "outputs": [
    {
     "data": {
      "text/plain": [
       "False"
      ]
     },
     "execution_count": 20,
     "metadata": {},
     "output_type": "execute_result"
    }
   ],
   "source": [
    "data.at[2,'value'] = 32\n",
    "check = data['value'].isnull().values.all()\n",
    "check"
   ]
  },
  {
   "cell_type": "code",
   "execution_count": 33,
   "metadata": {},
   "outputs": [],
   "source": [
    "def join_geom(file, geom = grids, **kwargs):\n",
    "    data = pd.read_csv(file, sep = '\\t', header = None, names = ['gridID', 'value'])\n",
    "    data = geom.merge(data, on = 'gridID', how = 'right')\n",
    "    return data"
   ]
  },
  {
   "cell_type": "code",
   "execution_count": 38,
   "metadata": {},
   "outputs": [
    {
     "data": {
      "text/html": [
       "<div>\n",
       "<style scoped>\n",
       "    .dataframe tbody tr th:only-of-type {\n",
       "        vertical-align: middle;\n",
       "    }\n",
       "\n",
       "    .dataframe tbody tr th {\n",
       "        vertical-align: top;\n",
       "    }\n",
       "\n",
       "    .dataframe thead th {\n",
       "        text-align: right;\n",
       "    }\n",
       "</style>\n",
       "<table border=\"1\" class=\"dataframe\">\n",
       "  <thead>\n",
       "    <tr style=\"text-align: right;\">\n",
       "      <th></th>\n",
       "      <th>gridID</th>\n",
       "      <th>geometry</th>\n",
       "      <th>value</th>\n",
       "    </tr>\n",
       "  </thead>\n",
       "  <tbody>\n",
       "    <tr>\n",
       "      <th>0</th>\n",
       "      <td>9</td>\n",
       "      <td>None</td>\n",
       "      <td>1</td>\n",
       "    </tr>\n",
       "    <tr>\n",
       "      <th>1</th>\n",
       "      <td>14</td>\n",
       "      <td>None</td>\n",
       "      <td>1</td>\n",
       "    </tr>\n",
       "    <tr>\n",
       "      <th>2</th>\n",
       "      <td>13</td>\n",
       "      <td>None</td>\n",
       "      <td>1</td>\n",
       "    </tr>\n",
       "    <tr>\n",
       "      <th>3</th>\n",
       "      <td>14</td>\n",
       "      <td>None</td>\n",
       "      <td>1</td>\n",
       "    </tr>\n",
       "    <tr>\n",
       "      <th>4</th>\n",
       "      <td>14</td>\n",
       "      <td>None</td>\n",
       "      <td>1</td>\n",
       "    </tr>\n",
       "  </tbody>\n",
       "</table>\n",
       "</div>"
      ],
      "text/plain": [
       "   gridID geometry  value\n",
       "0       9     None      1\n",
       "1      14     None      1\n",
       "2      13     None      1\n",
       "3      14     None      1\n",
       "4      14     None      1"
      ]
     },
     "execution_count": 38,
     "metadata": {},
     "output_type": "execute_result"
    }
   ],
   "source": [
    "# rawdata= pd.read_csv('input/q.txt', sep = '\\t', header = None, names = ['gridID', 'value'])\n",
    "data = join_geom('input/q.txt')\n",
    "data.head()"
   ]
  },
  {
   "cell_type": "code",
   "execution_count": 39,
   "metadata": {},
   "outputs": [
    {
     "data": {
      "text/plain": [
       "True"
      ]
     },
     "execution_count": 39,
     "metadata": {},
     "output_type": "execute_result"
    }
   ],
   "source": [
    "check = data['geometry'].isnull().values.all()\n",
    "check"
   ]
  },
  {
   "cell_type": "code",
   "execution_count": null,
   "metadata": {},
   "outputs": [],
   "source": [
    "data= first_time(rawdata)\n",
    "data"
   ]
  },
  {
   "cell_type": "code",
   "execution_count": null,
   "metadata": {},
   "outputs": [],
   "source": [
    "xcoord.head()"
   ]
  },
  {
   "cell_type": "code",
   "execution_count": null,
   "metadata": {},
   "outputs": [],
   "source": [
    "df = first_time(join_geom('input/q.txt', geom=xcoord))"
   ]
  },
  {
   "cell_type": "code",
   "execution_count": 13,
   "metadata": {},
   "outputs": [],
   "source": [
    "import altair as alt\n",
    "# alt.data_transformers.disable_max_rows()"
   ]
  },
  {
   "cell_type": "code",
   "execution_count": null,
   "metadata": {},
   "outputs": [],
   "source": [
    "alt.Chart(data).mark_geoshape().encode(\n",
    "    color='value:Q'\n",
    ")"
   ]
  },
  {
   "cell_type": "code",
   "execution_count": null,
   "metadata": {},
   "outputs": [],
   "source": [
    "a = alt.Chart(xcoord).mark_point(filled=False, size=15).encode(\n",
    "            alt.X('x').scale(zero=False).axis(labels=False), \n",
    "            alt.Y('y').scale(zero=False).axis(labels=False),\n",
    "            color=alt.value(\"#808080\"),\n",
    "            )#.configure_axis(grid=False)\n",
    "a"
   ]
  },
  {
   "cell_type": "code",
   "execution_count": null,
   "metadata": {},
   "outputs": [],
   "source": [
    "c = alt.Chart(df).mark_point(filled=True, size=20).encode(\n",
    "            alt.X('x').scale(zero=False).axis(labels=False), \n",
    "            alt.Y('y').scale(zero=False).axis(labels=False),\n",
    "            color=\"period:N\",\n",
    "            shape=\"period:N\",\n",
    "            ).configure_axis(grid=False)\n",
    "c"
   ]
  },
  {
   "cell_type": "code",
   "execution_count": null,
   "metadata": {},
   "outputs": [],
   "source": [
    "import geojson\n",
    "with open('input/alberta.geojson') as f:\n",
    "    alberta = geojson.load(f)\n",
    "type(alberta)"
   ]
  },
  {
   "cell_type": "code",
   "execution_count": null,
   "metadata": {},
   "outputs": [],
   "source": [
    "b = alt.Chart(alberta).mark_geoshape(\n",
    "    fill='lightgray',\n",
    "    stroke='white'\n",
    ").properties(\n",
    "    width=500,\n",
    "    height=300\n",
    ").project('albersUsa')\n",
    "b"
   ]
  },
  {
   "cell_type": "code",
   "execution_count": null,
   "metadata": {},
   "outputs": [],
   "source": [
    "from vega_datasets import data\n",
    "airports = data.airports()\n",
    "airports.head()"
   ]
  },
  {
   "cell_type": "code",
   "execution_count": null,
   "metadata": {},
   "outputs": [],
   "source": [
    "a = alt.Chart(airports).mark_circle().encode(\n",
    "    longitude='longitude:Q',\n",
    "    latitude='latitude:Q',\n",
    "    size=alt.value(10),\n",
    "    tooltip='name'\n",
    ").project(\n",
    "    \"albersUsa\"\n",
    ").properties(\n",
    "    width=500,\n",
    "    height=400\n",
    ")\n",
    "a"
   ]
  },
  {
   "cell_type": "code",
   "execution_count": null,
   "metadata": {},
   "outputs": [],
   "source": [
    "states = alt.topo_feature(data.us_10m.url, feature='states')\n",
    "\n",
    "b = alt.Chart(states).mark_geoshape(\n",
    "    fill='lightgray',\n",
    "    stroke='white'\n",
    ").project('albersUsa').properties(\n",
    "    width=500,\n",
    "    height=400\n",
    ")\n",
    "states"
   ]
  },
  {
   "cell_type": "code",
   "execution_count": null,
   "metadata": {},
   "outputs": [],
   "source": [
    "b + a"
   ]
  },
  {
   "cell_type": "code",
   "execution_count": null,
   "metadata": {},
   "outputs": [],
   "source": [
    "abshp = gpd.read_file(r'H:\\DATA\\MPB_Ning\\shp\\alberta_prj.shp', driver='ESRI Shapefile')\n",
    "shape = abshp[\"geometry\"].apply(lambda p: list(p.exterior.coords)).explode().apply(pd.Series).rename(columns=({0:\"x\", 1:\"y\"}))\n",
    "shape = shape.reset_index(drop=True)\n",
    "# shape = shape.reset_index()"
   ]
  },
  {
   "cell_type": "code",
   "execution_count": null,
   "metadata": {},
   "outputs": [],
   "source": [
    "shape.to_csv('input/alberta_xy.csv', index=False)"
   ]
  },
  {
   "cell_type": "code",
   "execution_count": null,
   "metadata": {},
   "outputs": [],
   "source": [
    "background = alt.Chart(shape).mark_line().encode(\n",
    "    alt.X('x').scale(zero=False).axis(labels=False), \n",
    "    alt.Y('y').scale(zero=False).axis(labels=False),\n",
    "    order='index')#.configure_axis(grid=False)\n",
    "background"
   ]
  },
  {
   "cell_type": "code",
   "execution_count": null,
   "metadata": {},
   "outputs": [],
   "source": [
    "c = alt.Chart(df).mark_point(filled=True, size=20).encode(\n",
    "            alt.X('x').scale(zero=False).axis(labels=False), \n",
    "            alt.Y('y').scale(zero=False).axis(labels=False),\n",
    "            color=\"period:N\",\n",
    "            shape=\"period:N\",\n",
    "            )#.configure_axis(grid=False)\n",
    "background + c"
   ]
  },
  {
   "cell_type": "code",
   "execution_count": null,
   "metadata": {},
   "outputs": [],
   "source": [
    "from geojson import dump\n",
    "with open('input/alberta.geojson', 'w') as f:\n",
    "    dump(abgeojson, f)"
   ]
  },
  {
   "cell_type": "code",
   "execution_count": null,
   "metadata": {},
   "outputs": [],
   "source": [
    "abgeojson."
   ]
  }
 ],
 "metadata": {
  "kernelspec": {
   "display_name": "ML",
   "language": "python",
   "name": "python3"
  },
  "language_info": {
   "codemirror_mode": {
    "name": "ipython",
    "version": 3
   },
   "file_extension": ".py",
   "mimetype": "text/x-python",
   "name": "python",
   "nbconvert_exporter": "python",
   "pygments_lexer": "ipython3",
   "version": "3.11.4"
  },
  "orig_nbformat": 4
 },
 "nbformat": 4,
 "nbformat_minor": 2
}
